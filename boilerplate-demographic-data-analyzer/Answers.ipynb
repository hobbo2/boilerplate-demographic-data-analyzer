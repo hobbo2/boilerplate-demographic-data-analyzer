{
 "cells": [
  {
   "cell_type": "code",
   "execution_count": 3,
   "id": "respective-prime",
   "metadata": {},
   "outputs": [],
   "source": [
    "\n",
    "import pandas as pd"
   ]
  },
  {
   "cell_type": "code",
   "execution_count": 4,
   "id": "returning-musician",
   "metadata": {},
   "outputs": [],
   "source": [
    "df = pd.read_csv('adult.data.csv')"
   ]
  },
  {
   "cell_type": "markdown",
   "id": "revised-wholesale",
   "metadata": {},
   "source": [
    " # How many of each race are represented in this dataset? This should be a Pandas series with race names as the index labels."
   ]
  },
  {
   "cell_type": "code",
   "execution_count": 5,
   "id": "impaired-decade",
   "metadata": {},
   "outputs": [
    {
     "data": {
      "text/plain": [
       "race\n",
       "White                 27816\n",
       "Black                  3124\n",
       "Asian-Pac-Islander     1039\n",
       "Amer-Indian-Eskimo      311\n",
       "Other                   271\n",
       "Name: race, dtype: int64"
      ]
     },
     "execution_count": 5,
     "metadata": {},
     "output_type": "execute_result"
    }
   ],
   "source": [
    "race_count = df.groupby('race')\n",
    "race_count = race_count['race'].count().sort_values(ascending = False)\n",
    "race_count"
   ]
  },
  {
   "cell_type": "markdown",
   "id": "russian-sacramento",
   "metadata": {},
   "source": [
    " # What is the average age of men?"
   ]
  },
  {
   "cell_type": "code",
   "execution_count": 6,
   "id": "copyrighted-fishing",
   "metadata": {},
   "outputs": [
    {
     "data": {
      "text/plain": [
       "39.4"
      ]
     },
     "execution_count": 6,
     "metadata": {},
     "output_type": "execute_result"
    }
   ],
   "source": [
    "average_age_men = df.loc[df['sex'] =='Male']['age'].mean().round(1)\n",
    "average_age_men"
   ]
  },
  {
   "cell_type": "markdown",
   "id": "ambient-craft",
   "metadata": {},
   "source": [
    " # What is the percentage of people who have a Bachelor's degree?"
   ]
  },
  {
   "cell_type": "code",
   "execution_count": 7,
   "id": "chief-portuguese",
   "metadata": {},
   "outputs": [
    {
     "data": {
      "text/plain": [
       "16.44605509658794"
      ]
     },
     "execution_count": 7,
     "metadata": {},
     "output_type": "execute_result"
    }
   ],
   "source": [
    "percentage_bachelors = (df.loc[df['education'] == 'Bachelors'].shape[0] / df.education.count())*100\n",
    "percentage_bachelors"
   ]
  },
  {
   "cell_type": "markdown",
   "id": "round-flash",
   "metadata": {},
   "source": [
    " # What percentage of people with advanced education (`Bachelors`, `Masters`, or `Doctorate`) make more than 50K?\n",
    "    # What percentage of people without advanced education make more than 50K?"
   ]
  },
  {
   "cell_type": "code",
   "execution_count": 8,
   "id": "hidden-toolbox",
   "metadata": {},
   "outputs": [],
   "source": [
    "# with and without `Bachelors`, `Masters`, or `Doctorate`"
   ]
  },
  {
   "cell_type": "code",
   "execution_count": 9,
   "id": "knowing-kruger",
   "metadata": {},
   "outputs": [
    {
     "data": {
      "text/plain": [
       "24.8"
      ]
     },
     "execution_count": 9,
     "metadata": {},
     "output_type": "execute_result"
    }
   ],
   "source": [
    "higher_education = round((df.loc[(df['education-num'] >= 13)].shape[0]/df.loc[df['education-num']].shape[0]*100),1)\n",
    "higher_education"
   ]
  },
  {
   "cell_type": "code",
   "execution_count": 10,
   "id": "sensitive-clarity",
   "metadata": {},
   "outputs": [
    {
     "data": {
      "text/plain": [
       "75.22496237830534"
      ]
     },
     "execution_count": 10,
     "metadata": {},
     "output_type": "execute_result"
    }
   ],
   "source": [
    "lower_education = df.loc[(df['education-num'] < 13)].shape[0]/df.loc[df['education-num']].shape[0]*100\n",
    "lower_education"
   ]
  },
  {
   "cell_type": "code",
   "execution_count": null,
   "id": "judicial-cinema",
   "metadata": {},
   "outputs": [],
   "source": []
  },
  {
   "cell_type": "code",
   "execution_count": 15,
   "id": "visible-drinking",
   "metadata": {},
   "outputs": [
    {
     "data": {
      "text/plain": [
       "46.5"
      ]
     },
     "execution_count": 15,
     "metadata": {},
     "output_type": "execute_result"
    }
   ],
   "source": [
    "higher_education_rich =round((df.loc[((df['education'] == 'Bachelors') | (df['education'] == 'Masters') | (df['education'] == 'Doctorate')) & (df['salary'] == '>50K')].shape[0]/df.loc[(df['education'] == 'Bachelors') | (df['education'] == 'Masters') | (df['education'] == 'Doctorate')].shape[0]*100),1)\n",
    "higher_education_rich"
   ]
  },
  {
   "cell_type": "code",
   "execution_count": 77,
   "id": "convinced-accent",
   "metadata": {},
   "outputs": [
    {
     "data": {
      "text/plain": [
       "3486"
      ]
     },
     "execution_count": 77,
     "metadata": {},
     "output_type": "execute_result"
    }
   ],
   "source": [
    "df.loc[((df['education'] == 'Bachelors') | (df['education'] == 'Masters') | (df['education'] == 'Doctorate'))& (df['salary'] == '>50K')].shape[0]"
   ]
  },
  {
   "cell_type": "code",
   "execution_count": 63,
   "id": "developed-sociology",
   "metadata": {},
   "outputs": [
    {
     "data": {
      "text/plain": [
       "7491"
      ]
     },
     "execution_count": 63,
     "metadata": {},
     "output_type": "execute_result"
    }
   ],
   "source": [
    "df.loc[(df['education'] == 'Bachelors') | (df['education'] == 'Masters') | (df['education'] == 'Doctorate')].shape[0]\n"
   ]
  },
  {
   "cell_type": "code",
   "execution_count": null,
   "id": "national-tobacco",
   "metadata": {},
   "outputs": [],
   "source": []
  },
  {
   "cell_type": "code",
   "execution_count": null,
   "id": "multiple-appointment",
   "metadata": {},
   "outputs": [],
   "source": [
    "\n"
   ]
  },
  {
   "cell_type": "code",
   "execution_count": 13,
   "id": "color-prayer",
   "metadata": {},
   "outputs": [
    {
     "data": {
      "text/plain": [
       "17.4"
      ]
     },
     "execution_count": 13,
     "metadata": {},
     "output_type": "execute_result"
    }
   ],
   "source": [
    "round((df.loc[((df['education-num'] < 13)|(df['education'] == 'Prof-school')) & (df['salary'] == '>50K')].shape[0]/ df.loc[(df['education-num'] < 13)| (df['education'] == 'Prof-school')].shape[0]*100),1)"
   ]
  },
  {
   "cell_type": "code",
   "execution_count": null,
   "id": "numerous-atmosphere",
   "metadata": {},
   "outputs": [],
   "source": []
  },
  {
   "cell_type": "code",
   "execution_count": null,
   "id": "intellectual-commitment",
   "metadata": {},
   "outputs": [],
   "source": []
  },
  {
   "cell_type": "markdown",
   "id": "adopted-conviction",
   "metadata": {},
   "source": [
    " # What is the minimum number of hours a person works per week (hours-per-week feature)?"
   ]
  },
  {
   "cell_type": "code",
   "execution_count": 20,
   "id": "mature-marsh",
   "metadata": {},
   "outputs": [
    {
     "data": {
      "text/plain": [
       "1"
      ]
     },
     "execution_count": 20,
     "metadata": {},
     "output_type": "execute_result"
    }
   ],
   "source": [
    "min_work_hours = df['hours-per-week'].min()\n",
    "min_work_hours"
   ]
  },
  {
   "cell_type": "markdown",
   "id": "amazing-problem",
   "metadata": {},
   "source": [
    " # What percentage of the people who work the minimum number of hours per week have a salary of >50K?"
   ]
  },
  {
   "cell_type": "code",
   "execution_count": 22,
   "id": "approximate-bulgarian",
   "metadata": {},
   "outputs": [
    {
     "data": {
      "text/plain": [
       "20"
      ]
     },
     "execution_count": 22,
     "metadata": {},
     "output_type": "execute_result"
    }
   ],
   "source": [
    " num_min_workers = df.loc[df['hours-per-week'] == df['hours-per-week'].min()].shape[0]\n",
    "num_min_workers"
   ]
  },
  {
   "cell_type": "code",
   "execution_count": 23,
   "id": "jewish-standing",
   "metadata": {},
   "outputs": [
    {
     "data": {
      "text/plain": [
       "10.0"
      ]
     },
     "execution_count": 23,
     "metadata": {},
     "output_type": "execute_result"
    }
   ],
   "source": [
    "rich_percentage = df.loc[(df['hours-per-week'] == df['hours-per-week'].min()) & (df['salary'] == '>50K')].shape[0] /  df.loc[df['hours-per-week'] == df['hours-per-week'].min()].shape[0] * 100\n",
    "rich_percentage"
   ]
  },
  {
   "cell_type": "markdown",
   "id": "particular-documentary",
   "metadata": {},
   "source": [
    "# What country has the highest percentage of people that earn >50K?"
   ]
  },
  {
   "cell_type": "code",
   "execution_count": 116,
   "id": "humanitarian-costa",
   "metadata": {},
   "outputs": [
    {
     "data": {
      "text/plain": [
       "'Iran'"
      ]
     },
     "execution_count": 116,
     "metadata": {},
     "output_type": "execute_result"
    }
   ],
   "source": [
    " highest_earning_country =(df.loc[df['salary'] == '>50K'].groupby('native-country')['native-country'].count()/df.groupby('native-country')['native-country'].count()).sort_values(ascending = False).index[0]\n",
    " highest_earning_country"
   ]
  },
  {
   "cell_type": "code",
   "execution_count": 129,
   "id": "motivated-absorption",
   "metadata": {},
   "outputs": [
    {
     "data": {
      "text/plain": [
       "41.86046511627907"
      ]
     },
     "execution_count": 129,
     "metadata": {},
     "output_type": "execute_result"
    }
   ],
   "source": [
    "highest_earning_country_percentage = ((df.loc[df['salary'] == '>50K'].groupby('native-country')['native-country'].count()/df.groupby('native-country')['native-country'].count()).sort_values(ascending = False)[0]*100)\n",
    "highest_earning_country_percentage"
   ]
  },
  {
   "cell_type": "code",
   "execution_count": 109,
   "id": "geographic-beaver",
   "metadata": {},
   "outputs": [],
   "source": [
    "x = df.groupby('native-country')['native-country'].count()"
   ]
  },
  {
   "cell_type": "code",
   "execution_count": 124,
   "id": "conceptual-option",
   "metadata": {},
   "outputs": [
    {
     "data": {
      "text/plain": [
       "'Iran'"
      ]
     },
     "execution_count": 124,
     "metadata": {},
     "output_type": "execute_result"
    }
   ],
   "source": [
    "(df.loc[df['salary'] == '>50K'].groupby('native-country')['native-country'].count()/df.groupby('native-country')['native-country'].count()).sort_values(ascending = False).index[0]"
   ]
  },
  {
   "cell_type": "markdown",
   "id": "stunning-encoding",
   "metadata": {},
   "source": [
    " # Identify the most popular occupation for those who earn >50K in India."
   ]
  },
  {
   "cell_type": "code",
   "execution_count": 25,
   "id": "suffering-banana",
   "metadata": {},
   "outputs": [
    {
     "data": {
      "text/plain": [
       "'Prof-specialty'"
      ]
     },
     "execution_count": 25,
     "metadata": {},
     "output_type": "execute_result"
    }
   ],
   "source": [
    " top_IN_occupation = df.loc[(df['native-country'] == 'India') & (df['salary'] == '>50K')].groupby('occupation')['occupation'].count().sort_values(ascending = False).index[0]\n",
    " top_IN_occupation   "
   ]
  },
  {
   "cell_type": "code",
   "execution_count": null,
   "id": "wound-jenny",
   "metadata": {},
   "outputs": [],
   "source": []
  }
 ],
 "metadata": {
  "kernelspec": {
   "display_name": "Python 3",
   "language": "python",
   "name": "python3"
  },
  "language_info": {
   "codemirror_mode": {
    "name": "ipython",
    "version": 3
   },
   "file_extension": ".py",
   "mimetype": "text/x-python",
   "name": "python",
   "nbconvert_exporter": "python",
   "pygments_lexer": "ipython3",
   "version": "3.9.1"
  }
 },
 "nbformat": 4,
 "nbformat_minor": 5
}
